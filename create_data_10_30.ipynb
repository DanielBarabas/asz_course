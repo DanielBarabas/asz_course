{
 "cells": [
  {
   "cell_type": "code",
   "execution_count": 1,
   "id": "f9b25f41",
   "metadata": {},
   "outputs": [],
   "source": [
    "import numpy as np\n",
    "import pandas as pd\n",
    "from pathlib import Path\n",
    "\n",
    "# Try SciPy for stable Φ/Φ^{-1}; fall back to numpy/erf if not present.\n",
    "try:\n",
    "    from scipy.stats import norm\n",
    "    def phi(z): return norm.cdf(z)\n",
    "    def phi_inv(u): return norm.ppf(np.clip(u, 1e-12, 1-1e-12))\n",
    "    HAS_SCIPY = True\n",
    "except Exception:\n",
    "    from math import erf, sqrt\n",
    "    def phi(z): return 0.5 * (1.0 + erf(z / sqrt(2.0)))\n",
    "    # Simple, decent inverse via erfinv if available\n",
    "    try:\n",
    "        from scipy.special import erfinv\n",
    "        def phi_inv(u):\n",
    "            u = np.clip(u, 1e-12, 1-1e-12)\n",
    "            return sqrt(2.0)*erfinv(2*u - 1)\n",
    "    except Exception:\n",
    "        raise ImportError(\"This notebook prefers SciPy. Please `pip install scipy` for norm.ppf.\")\n",
    "\n",
    "rng = np.random.default_rng(12345)\n",
    "\n",
    "# Paths (use your actual export locations)\n",
    "CONT_PATH = \"data/input/simple_params_1030/cs_2019_continuous_by_nace2.csv\"\n",
    "CORR_PATH = \"data/input/simple_params_1030/cs_2019_corr_long_by_nace2.csv\"\n",
    "\n",
    "# How many firms to simulate per NACE2?\n",
    "# We'll match the max 'N' reported across continuous vars for that NACE2 (below).\n",
    "SIM_SCALE = 1.0  # 1.0 = match counts; e.g. 0.5 = half, 2.0 = double\n"
   ]
  },
  {
   "cell_type": "code",
   "execution_count": 2,
   "id": "9824581c",
   "metadata": {},
   "outputs": [],
   "source": [
    "cont = pd.read_csv(CONT_PATH)\n",
    "corr_long = pd.read_csv(CORR_PATH)\n",
    "\n",
    "# Clean column names we’ll use\n",
    "cont.columns = [c.strip() for c in cont.columns]\n",
    "corr_long.columns = [c.strip() for c in corr_long.columns]\n",
    "\n",
    "# Percentile columns available in your export\n",
    "pct_cols = [\"p0001\",\"p01\",\"p05\",\"p10\",\"p25\",\"p50\",\"p75\",\"p90\",\"p95\",\"p99\",\"p999\"]\n",
    "base_cols = [\"nace2\",\"var\",\"N\",\"min\",\"max\",\"median\",\"mean\",\"sd\",\"skewness\",\"excess_kurtosis\"]\n",
    "assert all(pc in cont.columns for pc in pct_cols), \"Some percentile columns missing.\"\n",
    "\n",
    "# Build a quick lookup of group sizes per NACE2\n",
    "N_by_nace = cont.groupby(\"nace2\")[\"N\"].max().astype(int)\n",
    "nace_list = list(N_by_nace.index)\n",
    "\n",
    "# Continuous variables present (union over all groups)\n",
    "all_vars = cont[\"var\"].unique().tolist()\n"
   ]
  },
  {
   "cell_type": "code",
   "execution_count": 3,
   "id": "2fedfa32",
   "metadata": {},
   "outputs": [],
   "source": [
    "# For each (nace2, var) we’ll store U-grid and X-grid in dicts\n",
    "inv_grids = {}  # key: (nace2, var) → dict with 'u' and 'x' numpy arrays\n",
    "\n",
    "# Probability grid that matches the columns we have, plus endpoints\n",
    "u_grid = np.array([0.0,   0.001, 0.01, 0.05, 0.10, 0.25, 0.50, 0.75, 0.90, 0.95, 0.99, 0.999, 1.0])\n",
    "\n",
    "for g in nace_list:\n",
    "    sub = cont[cont[\"nace2\"] == g]\n",
    "    for v in sub[\"var\"].unique():\n",
    "        row = sub[sub[\"var\"] == v].iloc[0]\n",
    "        # Build X-grid in the same order as u_grid\n",
    "        x_vals = [\n",
    "            row[\"min\"],\n",
    "            row[\"p0001\"], row[\"p01\"], row[\"p05\"], row[\"p10\"], row[\"p25\"],\n",
    "            row[\"p50\"], row[\"p75\"], row[\"p90\"], row[\"p95\"], row[\"p99\"], row[\"p999\"],\n",
    "            row[\"max\"],\n",
    "        ]\n",
    "        x_grid = np.asarray(x_vals, dtype=float)\n",
    "\n",
    "        # Ensure monotonicity (just in case of minor rounding noise)\n",
    "        x_grid = np.maximum.accumulate(x_grid)\n",
    "\n",
    "        inv_grids[(g, v)] = {\"u\": u_grid, \"x\": x_grid}\n"
   ]
  },
  {
   "cell_type": "code",
   "execution_count": 4,
   "id": "38667a91",
   "metadata": {},
   "outputs": [],
   "source": [
    "def build_psd_corr_for_group(g, var_list):\n",
    "    # Take rows for this nace2\n",
    "    g_corr = corr_long[corr_long[\"nace2\"] == g].copy()\n",
    "    # Ensure we only include requested var_list\n",
    "    g_corr = g_corr[g_corr[\"var1\"].isin(var_list) & g_corr[\"var2\"].isin(var_list)]\n",
    "    # Wide matrix\n",
    "    corr = pd.pivot_table(g_corr, index=\"var1\", columns=\"var2\", values=\"cor\")\n",
    "    # Reindex to full var_list on both axes\n",
    "    corr = corr.reindex(index=var_list, columns=var_list)\n",
    "    # Fill diag with 1, off-diag missing with 0\n",
    "    np.fill_diagonal(corr.values, 1.0)\n",
    "    corr = corr.fillna(0.0)\n",
    "\n",
    "    # Symmetrize\n",
    "    M = corr.values\n",
    "    M = 0.5 * (M + M.T)\n",
    "\n",
    "    # Eigenvalue clipping to ensure PSD\n",
    "    w, V = np.linalg.eigh(M)\n",
    "    w_clipped = np.clip(w, 1e-8, None)\n",
    "    M_psd = (V * w_clipped) @ V.T\n",
    "\n",
    "    # Normalize back to correlation (set diag = 1 and rescale slight drift)\n",
    "    d = np.sqrt(np.diag(M_psd))\n",
    "    M_psd = M_psd / np.outer(d, d)\n",
    "    np.fill_diagonal(M_psd, 1.0)\n",
    "\n",
    "    return pd.DataFrame(M_psd, index=var_list, columns=var_list)\n"
   ]
  },
  {
   "cell_type": "code",
   "execution_count": 5,
   "id": "d7a21caa",
   "metadata": {},
   "outputs": [
    {
     "data": {
      "application/vnd.microsoft.datawrangler.viewer.v0+json": {
       "columns": [
        {
         "name": "index",
         "rawType": "int64",
         "type": "integer"
        },
        {
         "name": "nace2",
         "rawType": "object",
         "type": "string"
        },
        {
         "name": "row_id",
         "rawType": "int64",
         "type": "integer"
        },
        {
         "name": "age",
         "rawType": "float64",
         "type": "float"
        },
        {
         "name": "tanass_clean",
         "rawType": "float64",
         "type": "float"
        },
        {
         "name": "eszk",
         "rawType": "float64",
         "type": "float"
        },
        {
         "name": "sales_clean",
         "rawType": "float64",
         "type": "float"
        },
        {
         "name": "pretax",
         "rawType": "float64",
         "type": "float"
        },
        {
         "name": "persexp_clean",
         "rawType": "float64",
         "type": "float"
        },
        {
         "name": "satok",
         "rawType": "float64",
         "type": "float"
        },
        {
         "name": "export_value",
         "rawType": "float64",
         "type": "float"
        },
        {
         "name": "ereduzem",
         "rawType": "float64",
         "type": "float"
        },
        {
         "name": "emp",
         "rawType": "float64",
         "type": "float"
        },
        {
         "name": "liabilities",
         "rawType": "float64",
         "type": "float"
        }
       ],
       "ref": "0ad03ea9-3388-48b2-a25d-cf000657c3e1",
       "rows": [
        [
         "0",
         "10",
         "0",
         "0.006363804489382258",
         "66772.59476024944",
         "29923.832264258537",
         "18529.912940835602",
         "-37.10427029641289",
         "94.33626409844159",
         "-9188.041831190923",
         "1180156.7316837017",
         "438.4224905019116",
         "0.0",
         "191021.7586237662"
        ],
        [
         "1",
         "10",
         "1",
         "25.299281267451654",
         "10151.716077661511",
         "78304.88678021004",
         "158273.63137351524",
         "12682.83845392355",
         "86948.0768919891",
         "8450.160706088434",
         "3265401.933283728",
         "22435.187059301665",
         "40.529525012577835",
         "37910.89683248847"
        ],
        [
         "2",
         "10",
         "2",
         "25.063239484003475",
         "151.0885616811365",
         "113422.62632481003",
         "786718.9130720028",
         "4273.047810645792",
         "60718.67137765306",
         "737127.7120291616",
         "45450773.463863984",
         "6657.828323978993",
         "21.728192539520634",
         "10879.315308242076"
        ],
        [
         "3",
         "10",
         "3",
         "1.4692062287713399",
         "107.77881042082699",
         "27571.399007266264",
         "69855.83915481433",
         "-187.0711262287327",
         "6329.708134640346",
         "18738.39127564327",
         "599694.1385196594",
         "-74.70653502597628",
         "8.954353740308429",
         "11129.220485473094"
        ],
        [
         "4",
         "10",
         "4",
         "10.689949696655265",
         "5465.810742831523",
         "250913.38658039784",
         "879128.6328200535",
         "8007.565265999332",
         "66960.18808141464",
         "152867.31447762647",
         "7389195.37963738",
         "15639.383139985925",
         "24.82691386346287",
         "98656.28529112975"
        ]
       ],
       "shape": {
        "columns": 13,
        "rows": 5
       }
      },
      "text/html": [
       "<div>\n",
       "<style scoped>\n",
       "    .dataframe tbody tr th:only-of-type {\n",
       "        vertical-align: middle;\n",
       "    }\n",
       "\n",
       "    .dataframe tbody tr th {\n",
       "        vertical-align: top;\n",
       "    }\n",
       "\n",
       "    .dataframe thead th {\n",
       "        text-align: right;\n",
       "    }\n",
       "</style>\n",
       "<table border=\"1\" class=\"dataframe\">\n",
       "  <thead>\n",
       "    <tr style=\"text-align: right;\">\n",
       "      <th></th>\n",
       "      <th>nace2</th>\n",
       "      <th>row_id</th>\n",
       "      <th>age</th>\n",
       "      <th>tanass_clean</th>\n",
       "      <th>eszk</th>\n",
       "      <th>sales_clean</th>\n",
       "      <th>pretax</th>\n",
       "      <th>persexp_clean</th>\n",
       "      <th>satok</th>\n",
       "      <th>export_value</th>\n",
       "      <th>ereduzem</th>\n",
       "      <th>emp</th>\n",
       "      <th>liabilities</th>\n",
       "    </tr>\n",
       "  </thead>\n",
       "  <tbody>\n",
       "    <tr>\n",
       "      <th>0</th>\n",
       "      <td>10</td>\n",
       "      <td>0</td>\n",
       "      <td>0.006364</td>\n",
       "      <td>66772.594760</td>\n",
       "      <td>29923.832264</td>\n",
       "      <td>18529.912941</td>\n",
       "      <td>-37.104270</td>\n",
       "      <td>94.336264</td>\n",
       "      <td>-9188.041831</td>\n",
       "      <td>1.180157e+06</td>\n",
       "      <td>438.422491</td>\n",
       "      <td>0.000000</td>\n",
       "      <td>191021.758624</td>\n",
       "    </tr>\n",
       "    <tr>\n",
       "      <th>1</th>\n",
       "      <td>10</td>\n",
       "      <td>1</td>\n",
       "      <td>25.299281</td>\n",
       "      <td>10151.716078</td>\n",
       "      <td>78304.886780</td>\n",
       "      <td>158273.631374</td>\n",
       "      <td>12682.838454</td>\n",
       "      <td>86948.076892</td>\n",
       "      <td>8450.160706</td>\n",
       "      <td>3.265402e+06</td>\n",
       "      <td>22435.187059</td>\n",
       "      <td>40.529525</td>\n",
       "      <td>37910.896832</td>\n",
       "    </tr>\n",
       "    <tr>\n",
       "      <th>2</th>\n",
       "      <td>10</td>\n",
       "      <td>2</td>\n",
       "      <td>25.063239</td>\n",
       "      <td>151.088562</td>\n",
       "      <td>113422.626325</td>\n",
       "      <td>786718.913072</td>\n",
       "      <td>4273.047811</td>\n",
       "      <td>60718.671378</td>\n",
       "      <td>737127.712029</td>\n",
       "      <td>4.545077e+07</td>\n",
       "      <td>6657.828324</td>\n",
       "      <td>21.728193</td>\n",
       "      <td>10879.315308</td>\n",
       "    </tr>\n",
       "    <tr>\n",
       "      <th>3</th>\n",
       "      <td>10</td>\n",
       "      <td>3</td>\n",
       "      <td>1.469206</td>\n",
       "      <td>107.778810</td>\n",
       "      <td>27571.399007</td>\n",
       "      <td>69855.839155</td>\n",
       "      <td>-187.071126</td>\n",
       "      <td>6329.708135</td>\n",
       "      <td>18738.391276</td>\n",
       "      <td>5.996941e+05</td>\n",
       "      <td>-74.706535</td>\n",
       "      <td>8.954354</td>\n",
       "      <td>11129.220485</td>\n",
       "    </tr>\n",
       "    <tr>\n",
       "      <th>4</th>\n",
       "      <td>10</td>\n",
       "      <td>4</td>\n",
       "      <td>10.689950</td>\n",
       "      <td>5465.810743</td>\n",
       "      <td>250913.386580</td>\n",
       "      <td>879128.632820</td>\n",
       "      <td>8007.565266</td>\n",
       "      <td>66960.188081</td>\n",
       "      <td>152867.314478</td>\n",
       "      <td>7.389195e+06</td>\n",
       "      <td>15639.383140</td>\n",
       "      <td>24.826914</td>\n",
       "      <td>98656.285291</td>\n",
       "    </tr>\n",
       "  </tbody>\n",
       "</table>\n",
       "</div>"
      ],
      "text/plain": [
       "  nace2  row_id        age  tanass_clean           eszk    sales_clean  \\\n",
       "0    10       0   0.006364  66772.594760   29923.832264   18529.912941   \n",
       "1    10       1  25.299281  10151.716078   78304.886780  158273.631374   \n",
       "2    10       2  25.063239    151.088562  113422.626325  786718.913072   \n",
       "3    10       3   1.469206    107.778810   27571.399007   69855.839155   \n",
       "4    10       4  10.689950   5465.810743  250913.386580  879128.632820   \n",
       "\n",
       "         pretax  persexp_clean          satok  export_value      ereduzem  \\\n",
       "0    -37.104270      94.336264   -9188.041831  1.180157e+06    438.422491   \n",
       "1  12682.838454   86948.076892    8450.160706  3.265402e+06  22435.187059   \n",
       "2   4273.047811   60718.671378  737127.712029  4.545077e+07   6657.828324   \n",
       "3   -187.071126    6329.708135   18738.391276  5.996941e+05    -74.706535   \n",
       "4   8007.565266   66960.188081  152867.314478  7.389195e+06  15639.383140   \n",
       "\n",
       "         emp    liabilities  \n",
       "0   0.000000  191021.758624  \n",
       "1  40.529525   37910.896832  \n",
       "2  21.728193   10879.315308  \n",
       "3   8.954354   11129.220485  \n",
       "4  24.826914   98656.285291  "
      ]
     },
     "execution_count": 5,
     "metadata": {},
     "output_type": "execute_result"
    }
   ],
   "source": [
    "synthetic_blocks = []\n",
    "\n",
    "for g in nace_list:\n",
    "    # Variables with a marginal (grid) in this group:\n",
    "    vars_marg = cont.loc[cont[\"nace2\"] == g, \"var\"].unique().tolist()\n",
    "\n",
    "    # Variables present in correlation for this group:\n",
    "    g_vars_corr = pd.unique(\n",
    "        corr_long.loc[corr_long[\"nace2\"] == g, [\"var1\",\"var2\"]].values.ravel(\"K\")\n",
    "    ).tolist()\n",
    "\n",
    "    # Intersection = variables we'll simulate for this group\n",
    "    var_list = [v for v in all_vars if v in vars_marg and v in g_vars_corr]\n",
    "    if len(var_list) == 0:\n",
    "        continue\n",
    "\n",
    "    # Correlation matrix (PSD)\n",
    "    C = build_psd_corr_for_group(g, var_list).values\n",
    "\n",
    "    # Sample size for the group\n",
    "    N_sim = int(max(1, round(N_by_nace[g] * SIM_SCALE)))\n",
    "\n",
    "    # Draw correlated normals via eigen or cholesky\n",
    "    # Cholesky can occasionally fail if near-singular; use eigh instead\n",
    "    w, V = np.linalg.eigh(C)\n",
    "    w = np.clip(w, 0, None)\n",
    "    A = V @ np.diag(np.sqrt(w)) @ V.T\n",
    "\n",
    "    Z = rng.standard_normal(size=(N_sim, len(var_list)))\n",
    "    Z = Z @ A.T\n",
    "\n",
    "    # Map to uniforms\n",
    "    U = phi(Z)\n",
    "\n",
    "    # Map uniforms to each variable via its (nace2,var) inverse CDF grid\n",
    "    data = {}\n",
    "    for j, v in enumerate(var_list):\n",
    "        grid = inv_grids[(g, v)]\n",
    "        # linear interpolation on the grid\n",
    "        x_sim = np.interp(U[:, j], grid[\"u\"], grid[\"x\"])\n",
    "        data[v] = x_sim\n",
    "\n",
    "    block = pd.DataFrame(data)\n",
    "    block.insert(0, \"nace2\", g)\n",
    "    block.insert(1, \"row_id\", np.arange(N_sim, dtype=int))\n",
    "    synthetic_blocks.append(block)\n",
    "\n",
    "synthetic = pd.concat(synthetic_blocks, ignore_index=True)\n",
    "synthetic.head()\n"
   ]
  },
  {
   "cell_type": "markdown",
   "id": "7c6f01b7",
   "metadata": {},
   "source": [
    "print(\"Synthetic shape:\", synthetic.shape)\n",
    "print(\"Per NACE2 counts:\")\n",
    "print(synthetic[\"nace2\"].value_counts().sort_index())\n",
    "\n",
    "# Save\n",
    "Path(\"data/synthetic\").mkdir(parents=True, exist_ok=True)\n",
    "# synthetic.to_parquet(\"data/synthetic/sim_cs2019_by_nace2_gausscop.parquet\", index=False)\n",
    "# synthetic.to_csv(\"data/synthetic/sim_cs2019_by_nace2_gausscop.csv\", index=False)\n",
    "\n",
    "# Optional: a tiny sanity peek at means vs targets for one group/var\n",
    "g0 = synthetic[\"nace2\"].unique()[0]\n",
    "v0 = synthetic.columns[synthetic.columns.get_loc(\"row_id\")+1]  # first simulated var\n",
    "print(f\"\\nExample sanity — group {g0}, var {v0}\")\n",
    "print(\"simulated mean:\", synthetic.loc[synthetic[\"nace2\"]==g0, v0].mean())\n",
    "target_mean = cont.query(\"nace2 == @g0 and var == @v0\")[\"mean\"].iloc[0]\n",
    "print(\"target mean   :\", target_mean)\n"
   ]
  },
  {
   "cell_type": "code",
   "execution_count": 6,
   "id": "6d7bb877",
   "metadata": {},
   "outputs": [],
   "source": [
    "import numpy as np\n",
    "import pandas as pd\n",
    "\n",
    "rng = np.random.default_rng(42)\n",
    "\n",
    "dummy_path = \"data/input/simple_params_1030/cs_2019_dummy_shares_by_nace2.csv\"\n",
    "reg_path   = \"data/input/simple_params_1030/cs_2019_category_shares_by_nace2_region.csv\"\n",
    "cnty_path  = \"data/input/simple_params_1030/cs_2019_category_shares_by_nace2_county.csv\"\n",
    "own_path   = \"data/input/simple_params_1030/cs_2019_category_shares_by_nace2_owner.csv\"\n",
    "\n",
    "dshare = pd.read_csv(dummy_path)\n",
    "reg_sh = pd.read_csv(reg_path)   if Path(reg_path).exists()  else pd.DataFrame(columns=[\"nace2\",\"region\",\"N\",\"share\"])\n",
    "cnty_sh= pd.read_csv(cnty_path)  if Path(cnty_path).exists() else pd.DataFrame(columns=[\"nace2\",\"county\",\"N\",\"share\"])\n",
    "own_sh = pd.read_csv(own_path)   if Path(own_path).exists()  else pd.DataFrame(columns=[\"nace2\",\"firm_owner\",\"N\",\"share\"])\n",
    "\n",
    "# Keep only what we need\n",
    "dshare = dshare[[\"nace2\",\"share_export\",\"share_grant\",\"share_exit\"]].copy()\n",
    "\n",
    "# Make sure shares are within [0,1]\n",
    "for c in [\"share_export\",\"share_grant\",\"share_exit\"]:\n",
    "    if c in dshare.columns:\n",
    "        dshare[c] = dshare[c].clip(0, 1)\n"
   ]
  },
  {
   "cell_type": "code",
   "execution_count": 7,
   "id": "919b4caa",
   "metadata": {},
   "outputs": [],
   "source": [
    "syn = synthetic.copy()  # from your previous cells\n",
    "syn[\"has_export\"] = np.nan\n",
    "syn[\"has_grant\"]  = np.nan\n",
    "syn[\"exit\"]       = np.nan\n",
    "\n",
    "for g, gdf in syn.groupby(\"nace2\"):\n",
    "    idx = gdf.index\n",
    "    row = dshare[dshare[\"nace2\"] == g]\n",
    "    if row.empty:\n",
    "        # no shares for this group; skip\n",
    "        continue\n",
    "    p_export = float(row[\"share_export\"].iloc[0]) if \"share_export\" in row else 0.0\n",
    "    p_grant  = float(row[\"share_grant\"].iloc[0])  if \"share_grant\"  in row else 0.0\n",
    "    p_exit   = float(row[\"share_exit\"].iloc[0])   if \"share_exit\"   in row else 0.0\n",
    "\n",
    "    syn.loc[idx, \"has_export\"] = rng.binomial(1, p_export, size=len(idx))\n",
    "    syn.loc[idx, \"has_grant\"]  = rng.binomial(1, p_grant,  size=len(idx))\n",
    "    syn.loc[idx, \"exit\"]       = rng.binomial(1, p_exit,   size=len(idx))\n",
    "\n",
    "# Cast to integers\n",
    "syn[\"has_export\"] = syn[\"has_export\"].astype(\"Int64\")\n",
    "syn[\"has_grant\"]  = syn[\"has_grant\"].astype(\"Int64\")\n",
    "syn[\"exit\"]       = syn[\"exit\"].astype(\"Int64\")\n"
   ]
  },
  {
   "cell_type": "code",
   "execution_count": 8,
   "id": "12a006de",
   "metadata": {},
   "outputs": [],
   "source": [
    "# Prepare containers\n",
    "syn[\"region\"]     = pd.NA\n",
    "syn[\"county\"]     = pd.NA\n",
    "syn[\"firm_owner\"] = pd.NA\n",
    "\n",
    "# Region\n",
    "if not reg_sh.empty:\n",
    "    reg_sh = reg_sh.rename(columns={reg_sh.columns[0]: \"region\"} if reg_sh.columns[0] != \"region\" else {})\n",
    "    # keep columns: nace2, region, share\n",
    "    keep_cols = [c for c in [\"nace2\",\"region\",\"share\"] if c in reg_sh.columns]\n",
    "    reg_sh = reg_sh[keep_cols].dropna(subset=[\"region\"]).copy()\n",
    "    # normalize shares per group (just in case)\n",
    "    reg_sh[\"share\"] = reg_sh[\"share\"].clip(lower=0)\n",
    "    reg_sh[\"share\"] = reg_sh.groupby(\"nace2\")[\"share\"].transform(lambda s: s / s.sum() if s.sum() > 0 else s)\n",
    "\n",
    "    for g, gdf in syn.groupby(\"nace2\"):\n",
    "        idx = gdf.index\n",
    "        opts = reg_sh[reg_sh[\"nace2\"] == g]\n",
    "        if opts.empty:\n",
    "            continue\n",
    "        cats = opts[\"region\"].astype(str).tolist()\n",
    "        probs= opts[\"share\"].astype(float).to_numpy()\n",
    "        # guard for rounding: re-normalize\n",
    "        probs = probs / probs.sum() if probs.sum() > 0 else np.ones_like(probs)/len(probs)\n",
    "        draws = rng.choice(cats, size=len(idx), p=probs, replace=True)\n",
    "        syn.loc[idx, \"region\"] = draws\n",
    "\n",
    "# County\n",
    "if not cnty_sh.empty:\n",
    "    cnty_sh = cnty_sh.rename(columns={cnty_sh.columns[0]: \"county\"} if cnty_sh.columns[0] != \"county\" else {})\n",
    "    keep_cols = [c for c in [\"nace2\",\"county\",\"share\"] if c in cnty_sh.columns]\n",
    "    cnty_sh = cnty_sh[keep_cols].dropna(subset=[\"county\"]).copy()\n",
    "    cnty_sh[\"share\"] = cnty_sh[\"share\"].clip(lower=0)\n",
    "    cnty_sh[\"share\"] = cnty_sh.groupby(\"nace2\")[\"share\"].transform(lambda s: s / s.sum() if s.sum() > 0 else s)\n",
    "\n",
    "    for g, gdf in syn.groupby(\"nace2\"):\n",
    "        idx = gdf.index\n",
    "        opts = cnty_sh[cnty_sh[\"nace2\"] == g]\n",
    "        if opts.empty:\n",
    "            continue\n",
    "        cats = opts[\"county\"].astype(str).tolist()\n",
    "        probs= opts[\"share\"].astype(float).to_numpy()\n",
    "        probs = probs / probs.sum() if probs.sum() > 0 else np.ones_like(probs)/len(probs)\n",
    "        draws = rng.choice(cats, size=len(idx), p=probs, replace=True)\n",
    "        syn.loc[idx, \"county\"] = draws\n",
    "\n",
    "# Firm owner\n",
    "if not own_sh.empty:\n",
    "    own_sh = own_sh.rename(columns={own_sh.columns[0]: \"firm_owner\"} if own_sh.columns[0] != \"firm_owner\" else {})\n",
    "    keep_cols = [c for c in [\"nace2\",\"firm_owner\",\"share\"] if c in own_sh.columns]\n",
    "    own_sh = own_sh[keep_cols].dropna(subset=[\"firm_owner\"]).copy()\n",
    "    own_sh[\"share\"] = own_sh[\"share\"].clip(lower=0)\n",
    "    own_sh[\"share\"] = own_sh.groupby(\"nace2\")[\"share\"].transform(lambda s: s / s.sum() if s.sum() > 0 else s)\n",
    "\n",
    "    for g, gdf in syn.groupby(\"nace2\"):\n",
    "        idx = gdf.index\n",
    "        opts = own_sh[own_sh[\"nace2\"] == g]\n",
    "        if opts.empty:\n",
    "            continue\n",
    "        cats = opts[\"firm_owner\"].astype(str).tolist()\n",
    "        probs= opts[\"share\"].astype(float).to_numpy()\n",
    "        probs = probs / probs.sum() if probs.sum() > 0 else np.ones_like(probs)/len(probs)\n",
    "        draws = rng.choice(cats, size=len(idx), p=probs, replace=True)\n",
    "        syn.loc[idx, \"firm_owner\"] = draws\n",
    "\n",
    "for col in [\"emp\", \"age\"]:\n",
    "    if col in syn.columns:\n",
    "        vals = pd.to_numeric(syn[col], errors=\"coerce\")          # ensure numeric\n",
    "        vals = np.rint(vals)                                     # round to nearest int\n",
    "        vals = np.clip(vals, 0, None)                            # no negatives\n",
    "        syn[col] = pd.Series(vals).astype(\"Int64\")  \n"
   ]
  },
  {
   "cell_type": "code",
   "execution_count": 9,
   "id": "63c5f3e1",
   "metadata": {},
   "outputs": [],
   "source": [
    "lab = pd.read_excel(\"data/nace2_labels.xlsx\")\n",
    "lab[\"nace2\"] = lab[\"nace2\"].apply(str)\n",
    "lab[\"nace2\"] = lab[\"nace2\"].str.extract(r\"(\\d+)\", expand=False).fillna(\"\").str.zfill(2).str[:2]\n",
    "\n",
    "syn = syn.merge(lab, on=\"nace2\", how=\"left\")\n",
    "syn[\"nace2_name_code\"] = syn[\"name_hu\"].fillna(\"NACE \" + syn[\"nace2\"]) + \" (\" + syn[\"nace2\"] + \")\"\n"
   ]
  },
  {
   "cell_type": "code",
   "execution_count": 10,
   "id": "16587f78",
   "metadata": {},
   "outputs": [
    {
     "name": "stdout",
     "output_type": "stream",
     "text": [
      "Synthetic with dummies + categoricals: (829836, 21)\n",
      "nace2             object\n",
      "row_id             int64\n",
      "age                Int64\n",
      "tanass_clean     float64\n",
      "eszk             float64\n",
      "sales_clean      float64\n",
      "pretax           float64\n",
      "persexp_clean    float64\n",
      "satok            float64\n",
      "export_value     float64\n",
      "ereduzem         float64\n",
      "emp                Int64\n",
      "dtype: object\n",
      "\n",
      "Example shares — group 10\n",
      "export 0.06861198738170347 grant 0.03680336487907466 exit 0.11277602523659307\n"
     ]
    }
   ],
   "source": [
    "print(\"Synthetic with dummies + categoricals:\", syn.shape)\n",
    "print(syn.dtypes.head(12))\n",
    "\n",
    "# Quick share checks (simulated vs target) for one group\n",
    "g0 = syn[\"nace2\"].unique()[0]\n",
    "print(\"\\nExample shares — group\", g0)\n",
    "sim_row = syn[syn[\"nace2\"]==g0]\n",
    "print(\"export\", sim_row[\"has_export\"].mean(), \n",
    "      \"grant\", sim_row[\"has_grant\"].mean(), \n",
    "      \"exit\",  sim_row[\"exit\"].mean())\n",
    "\n",
    "# Save\n",
    "Path(\"data/synthetic\").mkdir(parents=True, exist_ok=True)\n",
    "syn.to_parquet(\"data/synthetic/sim_cs2019_by_nace2_withcats.parquet\", index=False)\n",
    "# syn.to_csv(\"data/synthetic/sim_cs2019_by_nace2_withcats.csv\", index=False)\n"
   ]
  },
  {
   "cell_type": "code",
   "execution_count": 11,
   "id": "de06e846",
   "metadata": {},
   "outputs": [
    {
     "data": {
      "application/vnd.microsoft.datawrangler.viewer.v0+json": {
       "columns": [
        {
         "name": "nace2",
         "rawType": "object",
         "type": "string"
        },
        {
         "name": "count",
         "rawType": "int64",
         "type": "integer"
        }
       ],
       "ref": "af5e35e5-807e-4f8c-ab6a-2b9f9b8a52ae",
       "rows": [
        [
         "ALL",
         "414918"
        ],
        [
         "47",
         "44539"
        ],
        [
         "68",
         "36993"
        ],
        [
         "46",
         "30452"
        ],
        [
         "43",
         "21576"
        ],
        [
         "70",
         "19131"
        ],
        [
         "45",
         "16616"
        ],
        [
         "41",
         "16127"
        ],
        [
         "56",
         "15883"
        ],
        [
         "86",
         "15840"
        ],
        [
         "71",
         "15412"
        ],
        [
         "69",
         "14882"
        ],
        [
         "62",
         "13468"
        ],
        [
         "49",
         "9831"
        ],
        [
         "85",
         "7834"
        ],
        [
         "82",
         "7678"
        ],
        [
         "74",
         "6630"
        ],
        [
         "25",
         "6511"
        ],
        [
         "66",
         "5922"
        ],
        [
         "11",
         "5881"
        ],
        [
         "81",
         "5568"
        ],
        [
         "96",
         "5003"
        ],
        [
         "73",
         "4991"
        ],
        [
         "42",
         "3997"
        ],
        [
         "55",
         "3968"
        ],
        [
         "16",
         "3814"
        ],
        [
         "10",
         "3804"
        ],
        [
         "93",
         "3694"
        ],
        [
         "90",
         "3610"
        ],
        [
         "64",
         "3584"
        ],
        [
         "63",
         "3470"
        ],
        [
         "77",
         "3365"
        ],
        [
         "52",
         "3319"
        ],
        [
         "14",
         "3239"
        ],
        [
         "72",
         "3067"
        ],
        [
         "58",
         "2966"
        ],
        [
         "59",
         "2960"
        ],
        [
         "33",
         "2675"
        ],
        [
         "80",
         "2435"
        ],
        [
         "18",
         "2348"
        ],
        [
         "28",
         "2227"
        ],
        [
         "22",
         "2214"
        ],
        [
         "35",
         "2196"
        ],
        [
         "31",
         "1882"
        ],
        [
         "32",
         "1869"
        ],
        [
         "95",
         "1839"
        ],
        [
         "79",
         "1488"
        ],
        [
         "23",
         "1466"
        ],
        [
         "26",
         "1292"
        ],
        [
         "78",
         "1259"
        ]
       ],
       "shape": {
        "columns": 1,
        "rows": 85
       }
      },
      "text/plain": [
       "nace2\n",
       "ALL    414918\n",
       "47      44539\n",
       "68      36993\n",
       "46      30452\n",
       "43      21576\n",
       "        ...  \n",
       "98          6\n",
       "34          3\n",
       "76          2\n",
       "57          1\n",
       "67          1\n",
       "Name: count, Length: 85, dtype: int64"
      ]
     },
     "execution_count": 11,
     "metadata": {},
     "output_type": "execute_result"
    }
   ],
   "source": [
    "syn[\"nace2\"].value_counts()"
   ]
  },
  {
   "cell_type": "code",
   "execution_count": 12,
   "id": "250f2ebb",
   "metadata": {},
   "outputs": [
    {
     "data": {
      "application/vnd.microsoft.datawrangler.viewer.v0+json": {
       "columns": [
        {
         "name": "nace2_name_code",
         "rawType": "object",
         "type": "string"
        },
        {
         "name": "count",
         "rawType": "int64",
         "type": "integer"
        }
       ],
       "ref": "78d81dd0-75fb-4b60-9f4b-14b95d9b866b",
       "rows": [
        [
         "NACE ALL (ALL)",
         "414918"
        ],
        [
         "Kiskereskedelem (kivéve: gépjármű, motorkerékpár) (47)",
         "44539"
        ],
        [
         "INGATLANÜGYLETEK (68)",
         "36993"
        ],
        [
         "Nagykereskedelem (kivéve: jármű, motorkerékpár) (46)",
         "30452"
        ],
        [
         "Speciális szaképítés (43)",
         "21576"
        ],
        [
         "Üzletvezetési, vezetői tanácsadás (70)",
         "19131"
        ],
        [
         "Gépjármű, motorkerékpár kereskedelme, javítása (45)",
         "16616"
        ],
        [
         "Épületek építése (41)",
         "16127"
        ],
        [
         "Vendéglátás (56)",
         "15883"
        ],
        [
         "Humán-egészségügyi ellátás (86)",
         "15840"
        ],
        [
         "Mérnöki és építészmérnöki tevékenység; műszaki vizsgálat, elemzés (71)",
         "15412"
        ],
        [
         "Jogi, számviteli, adószakértői tevékenység (69)",
         "14882"
        ],
        [
         "Információ-technológiai szolgáltatás (62)",
         "13468"
        ],
        [
         "Szárazföldi, csővezetékes szállítás (49)",
         "9831"
        ],
        [
         "Oktatás (85)",
         "7834"
        ],
        [
         "Adminisztratív, kiegészítő egyéb üzleti szolgáltatás (82)",
         "7678"
        ],
        [
         "Egyéb szakmai, tudományos, műszaki tevékenység (74)",
         "6630"
        ],
        [
         "Fémfeldolgozási termék gyártása (25)",
         "6511"
        ],
        [
         "Egyéb pénzügyi tevékenység (66)",
         "5922"
        ],
        [
         "Italgyártás (11)",
         "5881"
        ],
        [
         "Építményüzemeltetés, zöldterület-kezelés (81)",
         "5568"
        ],
        [
         "Egyéb személyi szolgáltatás (96)",
         "5003"
        ],
        [
         "Reklám, piackutatás (73)",
         "4991"
        ],
        [
         "Egyéb építmény építése (42)",
         "3997"
        ],
        [
         "Szálláshely-szolgáltatás (55)",
         "3968"
        ],
        [
         "Fafeldolgozás (kivéve: bútor), fonottáru gyártása (16)",
         "3814"
        ],
        [
         "Élelmiszergyártás (10)",
         "3804"
        ],
        [
         "Sport-, szórakoztató, szabadidős tevékenység (93)",
         "3694"
        ],
        [
         "Alkotó-, művészeti, szórakoztató tevékenység (90)",
         "3610"
        ],
        [
         "Pénzügyi közvetítés (kivéve: biztosítási, nyugdíjpénztári tevékenység) (64)",
         "3584"
        ],
        [
         "Információs szolgáltatás (63)",
         "3470"
        ],
        [
         "Kölcsönzés, operatív lízing (77)",
         "3365"
        ],
        [
         "Raktározás, szállítást kiegészítő tevékenység (52)",
         "3319"
        ],
        [
         "Ruházati termék gyártása (14)",
         "3239"
        ],
        [
         "Tudományos kutatás, fejlesztés (72)",
         "3067"
        ],
        [
         "Kiadói tevékenység (58)",
         "2966"
        ],
        [
         "Film, video, televízióműsor gyártása, hangfelvétel-kiadás (59)",
         "2960"
        ],
        [
         "Ipari gép, berendezés, eszköz javítása, üzembe helyezése (33)",
         "2675"
        ],
        [
         "Biztonsági, nyomozói tevékenység (80)",
         "2435"
        ],
        [
         "Nyomdai és egyéb sokszorosítási tevékenység (18)",
         "2348"
        ],
        [
         "Gép, gépi berendezés gyártása (28)",
         "2227"
        ],
        [
         "Gumi-, műanyag termék gyártása (22)",
         "2214"
        ],
        [
         "Villamosenergia-, gáz-, gőzellátás, légkondicionálás (35)",
         "2196"
        ],
        [
         "Bútorgyártás (31)",
         "1882"
        ],
        [
         "Egyéb feldolgozóipari tevékenység (32)",
         "1869"
        ],
        [
         "Számítógép, személyi, háztartási cikk javítása (95)",
         "1839"
        ],
        [
         "Utazásközvetítés, utazásszervezés, egyéb foglalás (79)",
         "1488"
        ],
        [
         "Nemfém ásványi termék gyártása (23)",
         "1466"
        ],
        [
         "Számítógép, elektronikai, optikai termék gyártása (26)",
         "1292"
        ],
        [
         "Munkaerőpiaci szolgáltatás (78)",
         "1259"
        ]
       ],
       "shape": {
        "columns": 1,
        "rows": 85
       }
      },
      "text/plain": [
       "nace2_name_code\n",
       "NACE ALL (ALL)                                                         414918\n",
       "Kiskereskedelem (kivéve: gépjármű, motorkerékpár) (47)                  44539\n",
       "INGATLANÜGYLETEK (68)                                                   36993\n",
       "Nagykereskedelem (kivéve: jármű, motorkerékpár) (46)                    30452\n",
       "Speciális szaképítés (43)                                               21576\n",
       "                                                                        ...  \n",
       "Háztartás termék-előállítása, szolgáltatása saját fogyasztásra (98)         6\n",
       "NACE 34 (34)                                                                3\n",
       "NACE 76 (76)                                                                2\n",
       "NACE 57 (57)                                                                1\n",
       "NACE 67 (67)                                                                1\n",
       "Name: count, Length: 85, dtype: int64"
      ]
     },
     "execution_count": 12,
     "metadata": {},
     "output_type": "execute_result"
    }
   ],
   "source": [
    "syn[\"nace2_name_code\"].value_counts()"
   ]
  },
  {
   "cell_type": "code",
   "execution_count": null,
   "id": "072a9053",
   "metadata": {},
   "outputs": [],
   "source": []
  }
 ],
 "metadata": {
  "kernelspec": {
   "display_name": ".venv",
   "language": "python",
   "name": "python3"
  },
  "language_info": {
   "codemirror_mode": {
    "name": "ipython",
    "version": 3
   },
   "file_extension": ".py",
   "mimetype": "text/x-python",
   "name": "python",
   "nbconvert_exporter": "python",
   "pygments_lexer": "ipython3",
   "version": "3.13.7"
  }
 },
 "nbformat": 4,
 "nbformat_minor": 5
}
